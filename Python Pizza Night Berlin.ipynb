{
 "cells": [
  {
   "cell_type": "markdown",
   "metadata": {
    "slideshow": {
     "slide_type": "slide"
    }
   },
   "source": [
    "# Numba: A compiler for the jitted generation\n",
    "### Valentin Haenel\n",
    "### Python Pizza Berlin Night 🍕 🍕 🍕 \n",
    "### Fri 23.08.219"
   ]
  },
  {
   "cell_type": "markdown",
   "metadata": {
    "slideshow": {
     "slide_type": "slide"
    }
   },
   "source": [
    "# Numba\n",
    "\n",
    "### The just-in-time (JIT), type-specializing, function compiler for accelerating numerically-focused Python.\n",
    "### Originally an Anaconda Inc. project\n",
    "### Now has core-contributors from > 3 companies\n",
    "### Stickers are available! 😃 "
   ]
  },
  {
   "cell_type": "markdown",
   "metadata": {
    "slideshow": {
     "slide_type": "slide"
    }
   },
   "source": [
    "# Sieve of Eratosthenes\n",
    "![Sieve](https://upload.wikimedia.org/wikipedia/commons/b/b9/Sieve_of_Eratosthenes_animation.gif \"sieve\")\n",
    "## https://en.wikipedia.org/wiki/Sieve_of_Eratosthenes"
   ]
  },
  {
   "cell_type": "code",
   "execution_count": null,
   "metadata": {
    "slideshow": {
     "slide_type": "slide"
    }
   },
   "outputs": [],
   "source": [
    "import numpy as np\n",
    "import numba as nb\n",
    "\n",
    "MAX=100000\n",
    "\n",
    "@nb.njit  # simply add the njit decorator\n",
    "def primes(max=MAX):\n",
    "    # initialize the boolean sieve, should be a bitmask\n",
    "    numbers = np.ones(max, dtype=np.uint8)  # Numba is NumPy aware\n",
    "    for i in range(2,max):\n",
    "        if numbers[i] == 0:\n",
    "            # has previously been crossed off\n",
    "            continue\n",
    "        else:\n",
    "            # it is a prime, start crossing off the number plus itself\n",
    "            # and continue to do so until you cross max\n",
    "            x = i + i\n",
    "            while x < max:\n",
    "                numbers[x] = 0\n",
    "                x += i\n",
    "    # return all primes, as indicated by all boolean positions that are one,\n",
    "    # starting at 2 (first prime).\n",
    "    return np.nonzero(numbers)[0][2:]"
   ]
  },
  {
   "cell_type": "code",
   "execution_count": null,
   "metadata": {
    "slideshow": {
     "slide_type": "slide"
    }
   },
   "outputs": [],
   "source": [
    "%timeit primes()"
   ]
  },
  {
   "cell_type": "code",
   "execution_count": null,
   "metadata": {
    "slideshow": {
     "slide_type": "slide"
    }
   },
   "outputs": [],
   "source": [
    "%timeit primes.py_func()"
   ]
  },
  {
   "cell_type": "code",
   "execution_count": null,
   "metadata": {
    "slideshow": {
     "slide_type": "slide"
    }
   },
   "outputs": [],
   "source": [
    "@nb.njit\n",
    "def numpy_primes(limit=MAX):\n",
    "    \"\"\" https://www.reddit.com/r/Python/comments/b6j9pn/speeding_up_the_sieve_of_eratosthenes_with_numba/\"\"\"\n",
    "    is_prime = np.ones(limit+1, dtype=np.bool8)\n",
    "    is_prime[4::2] = 0\n",
    "    for d in range(3, int(np.sqrt(limit))+1, 2):\n",
    "        if is_prime[d]:\n",
    "            is_prime[d*d::d] = 0\n",
    "    return np.nonzero(is_prime)[0][2:]"
   ]
  },
  {
   "cell_type": "code",
   "execution_count": null,
   "metadata": {
    "slideshow": {
     "slide_type": "slide"
    }
   },
   "outputs": [],
   "source": [
    "%timeit numpy_primes()"
   ]
  },
  {
   "cell_type": "code",
   "execution_count": null,
   "metadata": {
    "slideshow": {
     "slide_type": "slide"
    }
   },
   "outputs": [],
   "source": [
    "%timeit numpy_primes.py_func()"
   ]
  },
  {
   "cell_type": "markdown",
   "metadata": {
    "slideshow": {
     "slide_type": "slide"
    }
   },
   "source": [
    "![flow](numba_flowchart.png \"flow\")"
   ]
  },
  {
   "cell_type": "markdown",
   "metadata": {
    "slideshow": {
     "slide_type": "slide"
    }
   },
   "source": [
    "# Sounds like a free lunch?!\n",
    "\n",
    "* Always worth a try!\n",
    "* If it works, great!\n",
    "* If not, you will get an error message and there might be a bit of a learning curve.. It's a compiler. 😊 "
   ]
  },
  {
   "cell_type": "markdown",
   "metadata": {
    "slideshow": {
     "slide_type": "slide"
    }
   },
   "source": [
    "# What else?\n",
    "* Accelerate NumPy in many cases (Numpy + Mamba = Numba)\n",
    "* GPU support, write CUDA in Python\n",
    "* Release highly performant libraries as pure Python code (no pre-compiling binaries for users)"
   ]
  },
  {
   "cell_type": "markdown",
   "metadata": {
    "slideshow": {
     "slide_type": "slide"
    }
   },
   "source": [
    "# We are here to help!\n",
    "# https://numba.pydata.org/\n",
    "# https://gitter.im/numba/numba"
   ]
  }
 ],
 "metadata": {
  "celltoolbar": "Slideshow",
  "kernelspec": {
   "display_name": "Python 3",
   "language": "python",
   "name": "python3"
  },
  "language_info": {
   "codemirror_mode": {
    "name": "ipython",
    "version": 3
   },
   "file_extension": ".py",
   "mimetype": "text/x-python",
   "name": "python",
   "nbconvert_exporter": "python",
   "pygments_lexer": "ipython3",
   "version": "3.7.3"
  }
 },
 "nbformat": 4,
 "nbformat_minor": 2
}
